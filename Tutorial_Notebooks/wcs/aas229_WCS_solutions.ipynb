{
 "cells": [
  {
   "cell_type": "markdown",
   "metadata": {},
   "source": [
    "## WCS solutions"
   ]
  },
  {
   "cell_type": "markdown",
   "metadata": {},
   "source": [
    "Exercise 1:\n",
    "\n",
    "- Create a WCS object for a different file. \n",
    "\n",
    "#dist_file_name = os.path.join('../Supporting_Data', 'dist_lookup.fits.gz')\n",
    "\n",
    "This file contains all distortions typical for HST imaging data - SIP, lookup_table and det2im (detector to image - correcting detector irregularities). The lookup table and det2im distortions are stored in separate extensions so you will need to pass as a second argument to `wcs.WCS` the file object (already opened with astropy.io.fits).\n",
    "\n",
    "- Look at the file object with the `info()` method. The lookup_table and det2im distortions are saved in separate extensions.\n",
    "\n",
    "- Modify one of the WCS keywords and save ot to file. (As some of the distortion is saved in extensions, use the method `to_fits()` to save the entire WCS."
   ]
  },
  {
   "cell_type": "code",
   "execution_count": 1,
   "metadata": {
    "collapsed": true
   },
   "outputs": [],
   "source": [
    "import os.path\n",
    "from astropy.io import fits\n",
    "from astropy import wcs"
   ]
  },
  {
   "cell_type": "code",
   "execution_count": 2,
   "metadata": {
    "collapsed": false
   },
   "outputs": [],
   "source": [
    "dist_file_name = os.path.join('dist_lookup.fits.gz')\n",
    "f = fits.open(dist_file_name)\n",
    "w = wcs.WCS(f[1].header, f)"
   ]
  },
  {
   "cell_type": "code",
   "execution_count": 3,
   "metadata": {
    "collapsed": false
   },
   "outputs": [
    {
     "name": "stdout",
     "output_type": "stream",
     "text": [
      "Filename: dist_lookup.fits.gz\n",
      "No.    Name         Type      Cards   Dimensions   Format\n",
      "0    PRIMARY     PrimaryHDU       4   ()              \n",
      "1    SCI         ImageHDU       170   (100, 100)   float32   \n",
      "2    D2IMARR     ImageHDU        15   (4096, 1)    float32   \n",
      "3    WCSDVARR    ImageHDU        15   (65, 33)     float32   \n",
      "4    WCSDVARR    ImageHDU        15   (65, 33)     float32   \n",
      "None\n"
     ]
    }
   ],
   "source": [
    "print(f.info())"
   ]
  },
  {
   "cell_type": "markdown",
   "metadata": {},
   "source": [
    "The `WCSDVARR` contain the lookup_table distortion and `D2IMARR` extension contains the detector correction."
   ]
  },
  {
   "cell_type": "code",
   "execution_count": 4,
   "metadata": {
    "collapsed": false
   },
   "outputs": [],
   "source": [
    "hdr = w.to_header(relax=True)"
   ]
  },
  {
   "cell_type": "code",
   "execution_count": 14,
   "metadata": {
    "collapsed": false
   },
   "outputs": [
    {
     "data": {
      "text/plain": [
       "WCSAXES =                    2 / Number of coordinate axes                      \n",
       "CRPIX1  =                 10.0 / Pixel coordinate of reference point            \n",
       "CRPIX2  =                 20.0 / Pixel coordinate of reference point            \n",
       "PC1_1   =   1.290551569736E-05 / Coordinate transformation matrix element       \n",
       "PC1_2   =  5.9525007864732E-06 / Coordinate transformation matrix element       \n",
       "PC2_1   =  5.0226382102765E-06 / Coordinate transformation matrix element       \n",
       "PC2_2   = -1.2644844123757E-05 / Coordinate transformation matrix element       \n",
       "CDELT1  =                  1.0 / [deg] Coordinate increment at reference point  \n",
       "CDELT2  =                  1.0 / [deg] Coordinate increment at reference point  \n",
       "CUNIT1  = 'deg'                / Units of coordinate increment and value        \n",
       "CUNIT2  = 'deg'                / Units of coordinate increment and value        \n",
       "CTYPE1  = 'RA---TAN-SIP'       / TAN (gnomonic) projection + SIP distortions    \n",
       "CTYPE2  = 'DEC--TAN-SIP'       / TAN (gnomonic) projection + SIP distortions    \n",
       "CRVAL1  =        5.63056810618 / [deg] Coordinate value at reference point      \n",
       "CRVAL2  =      -72.05457184279 / [deg] Coordinate value at reference point      \n",
       "LONPOLE =                180.0 / [deg] Native longitude of celestial pole       \n",
       "LATPOLE =      -72.05457184279 / [deg] Native latitude of celestial pole        \n",
       "WCSNAME = 'IDC_postsm4'        / Coordinate system title                        \n",
       "RADESYS = 'FK5'                / Equatorial coordinate system                   \n",
       "EQUINOX =               2000.0 / [yr] Equinox of equatorial coordinates         \n",
       "A_1_1   = -5.1974576466834E-06                                                  \n",
       "B_1_3   = 1.21743011568848E-14                                                  \n",
       "A_0_2   = 2.16615952976212E-06                                                  \n",
       "A_2_1   = -3.9771547747287E-11                                                  \n",
       "B_1_2   = -6.1692652686813E-11                                                  \n",
       "A_1_2   = -5.2348707436924E-10                                                  \n",
       "A_2_2   = 3.46791267104378E-14                                                  \n",
       "B_0_2   = -7.2168814507744E-06                                                  \n",
       "B_1_1   = 6.18443235774478E-06                                                  \n",
       "A_3_0   = -4.7304448292227E-10                                                  \n",
       "B_0_3   = -4.1754720492749E-10                                                  \n",
       "B_3_1   = -3.7795068054874E-15                                                  \n",
       "B_3_0   = 8.56763542781631E-11                                                  \n",
       "A_0_3   = 1.08193519820265E-11                                                  \n",
       "A_1_3   = -2.4569975537746E-14                                                  \n",
       "A_ORDER =                    4                                                  \n",
       "B_2_1   = -5.0857161673862E-10                                                  \n",
       "B_0_4   = -9.9570490655478E-15                                                  \n",
       "B_2_2   = -3.6614325928657E-14                                                  \n",
       "A_3_1   =  1.9710229716603E-15                                                  \n",
       "A_2_0   = 8.55127758255650E-06                                                  \n",
       "B_2_0   = -1.7464918770586E-06                                                  \n",
       "B_ORDER =                    4                                                  \n",
       "B_4_0   = -1.7687653826004E-14                                                  \n",
       "A_0_4   = 1.49356171166049E-14                                                  \n",
       "A_4_0   = 2.37430106240231E-14                                                  "
      ]
     },
     "execution_count": 14,
     "metadata": {},
     "output_type": "execute_result"
    }
   ],
   "source": [
    "hdr"
   ]
  },
  {
   "cell_type": "code",
   "execution_count": 5,
   "metadata": {
    "collapsed": false
   },
   "outputs": [
    {
     "name": "stdout",
     "output_type": "stream",
     "text": [
      "[ 2048.  1024.]\n"
     ]
    }
   ],
   "source": [
    "print(w.wcs.crpix)\n",
    "w.wcs.crpix = [10, 20]"
   ]
  },
  {
   "cell_type": "code",
   "execution_count": 7,
   "metadata": {
    "collapsed": false
   },
   "outputs": [
    {
     "name": "stdout",
     "output_type": "stream",
     "text": [
      "Filename: (No file associated with this HDUList)\n",
      "No.    Name         Type      Cards   Dimensions   Format\n",
      "0    PRIMARY     PrimaryHDU      65   ()              \n",
      "1    D2IMARR     ImageHDU        15   (4096, 1)    float32   \n",
      "2    WCSDVARR    ImageHDU        15   (65, 33)     float32   \n",
      "3    WCSDVARR    ImageHDU        15   (65, 33)     float32   \n"
     ]
    }
   ],
   "source": [
    "new_file = w.to_fits(relax=True)\n",
    "new_file.info()"
   ]
  },
  {
   "cell_type": "code",
   "execution_count": 8,
   "metadata": {
    "collapsed": false
   },
   "outputs": [
    {
     "data": {
      "text/plain": [
       "CRPIX1  =                 10.0 / Pixel coordinate of reference point            \n",
       "CRPIX2  =                 20.0 / Pixel coordinate of reference point            "
      ]
     },
     "execution_count": 8,
     "metadata": {},
     "output_type": "execute_result"
    }
   ],
   "source": [
    "new_file[0].header['CRPIX*']"
   ]
  },
  {
   "cell_type": "code",
   "execution_count": null,
   "metadata": {
    "collapsed": true
   },
   "outputs": [],
   "source": []
  },
  {
   "cell_type": "markdown",
   "metadata": {},
   "source": [
    "Exercise 2:\n",
    "\n",
    "Using the same file create a WCS object for the alternate WCS in its 'SCI' header, by passing also `key='O'` to wcs.WCS.\n",
    "Commpare the two WCSs using the `printwcs()` method`"
   ]
  },
  {
   "cell_type": "code",
   "execution_count": 9,
   "metadata": {
    "collapsed": true
   },
   "outputs": [],
   "source": [
    "f = fits.open(dist_file_name)\n",
    "w = wcs.WCS(f[1].header, f)\n",
    "\n",
    "walt = wcs.WCS(f[1].header, f, key='O')"
   ]
  },
  {
   "cell_type": "code",
   "execution_count": 10,
   "metadata": {
    "collapsed": false
   },
   "outputs": [
    {
     "name": "stdout",
     "output_type": "stream",
     "text": [
      "WCS Keywords\n",
      "\n",
      "Number of WCS axes: 2\n",
      "CTYPE : 'RA---TAN-SIP'  'DEC--TAN-SIP'  \n",
      "CRVAL : 5.6305681061800001  -72.054571842789983  \n",
      "CRPIX : 2048.0  1024.0  \n",
      "CD1_1 CD1_2  : 1.2905515697360201e-05  5.9525007864732003e-06  \n",
      "CD2_1 CD2_2  : 5.02263821027651e-06  -1.2644844123757001e-05  \n",
      "NAXIS    : 100 100\n"
     ]
    }
   ],
   "source": [
    "w.printwcs()"
   ]
  },
  {
   "cell_type": "code",
   "execution_count": 11,
   "metadata": {
    "collapsed": false
   },
   "outputs": [
    {
     "name": "stdout",
     "output_type": "stream",
     "text": [
      "WCS Keywords\n",
      "\n",
      "Number of WCS axes: 2\n",
      "CTYPE : 'RA---TAN-SIP'  'DEC--TAN-SIP'  \n",
      "CRVAL : 5.6305681061800001  -72.054571842800001  \n",
      "CRPIX : 2048.0  1024.0  \n",
      "CD1_1 CD1_2  : 1.29056256334e-05  5.9530912341999997e-06  \n",
      "CD2_1 CD2_2  : 5.0220581265600003e-06  -1.26447741482e-05  \n",
      "NAXIS    : 100 100\n"
     ]
    }
   ],
   "source": [
    "walt.printwcs()\n"
   ]
  },
  {
   "cell_type": "code",
   "execution_count": null,
   "metadata": {
    "collapsed": true
   },
   "outputs": [],
   "source": []
  }
 ],
 "metadata": {
  "anaconda-cloud": {},
  "kernelspec": {
   "display_name": "Python [Root]",
   "language": "python",
   "name": "Python [Root]"
  },
  "language_info": {
   "codemirror_mode": {
    "name": "ipython",
    "version": 3
   },
   "file_extension": ".py",
   "mimetype": "text/x-python",
   "name": "python",
   "nbconvert_exporter": "python",
   "pygments_lexer": "ipython3",
   "version": "3.5.2"
  }
 },
 "nbformat": 4,
 "nbformat_minor": 0
}

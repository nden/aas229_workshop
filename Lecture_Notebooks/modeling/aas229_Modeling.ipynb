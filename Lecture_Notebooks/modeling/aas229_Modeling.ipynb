{
 "cells": [
  {
   "cell_type": "markdown",
   "metadata": {},
   "source": [
    "## Overview of core astropy.modeling features\n",
    "\n",
    "- simple models\n",
    "- fitters\n",
    "- combined models\n",
    "- creating new models\n"
   ]
  },
  {
   "cell_type": "code",
   "execution_count": 1,
   "metadata": {
    "collapsed": true
   },
   "outputs": [],
   "source": [
    "import numpy as np\n",
    "%matplotlib inline\n",
    "from matplotlib import pyplot as plt"
   ]
  },
  {
   "cell_type": "markdown",
   "metadata": {},
   "source": [
    "[astropy.modeling](http://astropy.readthedocs.io/en/latest/modeling/index.html) is a framework for representing models and evaluating and fitting them.\n",
    "It is designed to be flexible and easily extensible. \n",
    "Models do not reference fitting algorithms explicitly and new fitting algorithms may be \n",
    "added without changing the existing models."
   ]
  },
  {
   "cell_type": "markdown",
   "metadata": {},
   "source": [
    "### Simple models"
   ]
  },
  {
   "cell_type": "markdown",
   "metadata": {},
   "source": [
    "A number of predefined models already exist in modeling. They all live under a common namespace - *models*."
   ]
  },
  {
   "cell_type": "code",
   "execution_count": 3,
   "metadata": {
    "collapsed": false
   },
   "outputs": [],
   "source": [
    "from astropy.modeling import models\n"
   ]
  },
  {
   "cell_type": "markdown",
   "metadata": {},
   "source": [
    "Most models are defined with their parameters and maintain an ordered list of parameter names.\n",
    "The names of the parameters can be found directly from the model."
   ]
  },
  {
   "cell_type": "code",
   "execution_count": 14,
   "metadata": {
    "collapsed": false
   },
   "outputs": [
    {
     "data": {
      "text/plain": [
       "('amplitude', 'mean', 'stddev')"
      ]
     },
     "execution_count": 14,
     "metadata": {},
     "output_type": "execute_result"
    }
   ],
   "source": [
    "models.Gaussian1D.param_names"
   ]
  },
  {
   "cell_type": "markdown",
   "metadata": {},
   "source": [
    "They are initialized by providing values for the parameters."
   ]
  },
  {
   "cell_type": "code",
   "execution_count": 5,
   "metadata": {
    "collapsed": false
   },
   "outputs": [],
   "source": [
    "gauss = models.Gaussian1D(amplitude=5.3, mean=3.1, stddev=1.1)"
   ]
  },
  {
   "cell_type": "markdown",
   "metadata": {},
   "source": [
    "The order of the *Model.param_names* list is important because models can be initialized by simply providing the values as positional arguments"
   ]
  },
  {
   "cell_type": "code",
   "execution_count": 17,
   "metadata": {
    "collapsed": false
   },
   "outputs": [
    {
     "name": "stdout",
     "output_type": "stream",
     "text": [
      "Model: Gaussian1D\n",
      "Inputs: ('x',)\n",
      "Outputs: ('y',)\n",
      "Model set size: 1\n",
      "Parameters:\n",
      "    amplitude mean stddev\n",
      "    --------- ---- ------\n",
      "          5.3  3.1    1.1\n"
     ]
    }
   ],
   "source": [
    "gauss = models.Gaussian1D(5.3, 3.1, 1.1)\n",
    "print(gauss)"
   ]
  },
  {
   "cell_type": "markdown",
   "metadata": {},
   "source": [
    "Model parameters are objects with attributes:"
   ]
  },
  {
   "cell_type": "code",
   "execution_count": 6,
   "metadata": {
    "collapsed": false
   },
   "outputs": [
    {
     "data": {
      "text/plain": [
       "Parameter('mean', value=3.1)"
      ]
     },
     "execution_count": 6,
     "metadata": {},
     "output_type": "execute_result"
    }
   ],
   "source": [
    "gauss.mean"
   ]
  },
  {
   "cell_type": "code",
   "execution_count": 18,
   "metadata": {
    "collapsed": false
   },
   "outputs": [
    {
     "name": "stdout",
     "output_type": "stream",
     "text": [
      "mean\n"
     ]
    }
   ],
   "source": [
    "print(gauss.mean.name)"
   ]
  },
  {
   "cell_type": "code",
   "execution_count": 19,
   "metadata": {
    "collapsed": false
   },
   "outputs": [
    {
     "name": "stdout",
     "output_type": "stream",
     "text": [
      "3.1\n"
     ]
    }
   ],
   "source": [
    "print(gauss.mean.value)\n"
   ]
  },
  {
   "cell_type": "markdown",
   "metadata": {},
   "source": [
    "Most models have default values for their parameters and can be initialized without providing initial values."
   ]
  },
  {
   "cell_type": "code",
   "execution_count": 20,
   "metadata": {
    "collapsed": false
   },
   "outputs": [
    {
     "name": "stdout",
     "output_type": "stream",
     "text": [
      "0\n"
     ]
    }
   ],
   "source": [
    "print(gauss.mean.default)"
   ]
  },
  {
   "cell_type": "code",
   "execution_count": 21,
   "metadata": {
    "collapsed": false
   },
   "outputs": [
    {
     "data": {
      "text/plain": [
       "<Gaussian1D(amplitude=1.0, mean=0.0, stddev=1.0)>"
      ]
     },
     "execution_count": 21,
     "metadata": {},
     "output_type": "execute_result"
    }
   ],
   "source": [
    "models.Gaussian1D(amplitude=1, stddev=1)"
   ]
  },
  {
   "cell_type": "markdown",
   "metadata": {},
   "source": [
    "astropy.modeling supports parameter constraints:"
   ]
  },
  {
   "cell_type": "code",
   "execution_count": 12,
   "metadata": {
    "collapsed": false
   },
   "outputs": [
    {
     "name": "stdout",
     "output_type": "stream",
     "text": [
      "('fixed', 'tied', 'bounds')\n"
     ]
    }
   ],
   "source": [
    "print(gauss.mean.constraints) # more on this later"
   ]
  },
  {
   "cell_type": "markdown",
   "metadata": {},
   "source": [
    "Models have also a *parameters* attribute which is a flattened list of all parameter values. It is what fitters operate on and can be used to update a model's parameters. The values are in the same order as *Model.param_list*."
   ]
  },
  {
   "cell_type": "code",
   "execution_count": 22,
   "metadata": {
    "collapsed": false
   },
   "outputs": [
    {
     "name": "stdout",
     "output_type": "stream",
     "text": [
      "[ 5.3  3.1  1.1]\n"
     ]
    }
   ],
   "source": [
    "print(gauss.parameters)"
   ]
  },
  {
   "cell_type": "code",
   "execution_count": 23,
   "metadata": {
    "collapsed": false
   },
   "outputs": [
    {
     "name": "stdout",
     "output_type": "stream",
     "text": [
      "Parameter('amplitude', value=10.0)\n"
     ]
    }
   ],
   "source": [
    "gauss.parameters = [10, 3.4, 1.2]\n",
    "print(gauss.amplitude)"
   ]
  },
  {
   "cell_type": "markdown",
   "metadata": {},
   "source": [
    "Individual parameter values can be changed by assignment:"
   ]
  },
  {
   "cell_type": "code",
   "execution_count": 24,
   "metadata": {
    "collapsed": false
   },
   "outputs": [
    {
     "name": "stdout",
     "output_type": "stream",
     "text": [
      "Parameter('mean', value=1.4)\n"
     ]
    }
   ],
   "source": [
    "gauss.mean = 1.4\n",
    "print(gauss.mean)"
   ]
  },
  {
   "cell_type": "code",
   "execution_count": 25,
   "metadata": {
    "collapsed": false
   },
   "outputs": [
    {
     "name": "stdout",
     "output_type": "stream",
     "text": [
      "[ 10.    1.4   1.2]\n"
     ]
    }
   ],
   "source": [
    "print(gauss.parameters)"
   ]
  },
  {
   "cell_type": "markdown",
   "metadata": {},
   "source": [
    "#### Model Evaluation"
   ]
  },
  {
   "cell_type": "markdown",
   "metadata": {},
   "source": [
    "Models are evaluated like functions, by passing the inputs. Each dimension is a separate input."
   ]
  },
  {
   "cell_type": "code",
   "execution_count": 26,
   "metadata": {
    "collapsed": true
   },
   "outputs": [],
   "source": [
    "x = np.linspace(-2, 5, 100)\n",
    "data = gauss(x)"
   ]
  },
  {
   "cell_type": "code",
   "execution_count": 27,
   "metadata": {
    "collapsed": false,
    "scrolled": true
   },
   "outputs": [
    {
     "data": {
      "text/plain": [
       "[<matplotlib.lines.Line2D at 0x7f6b0e1d3ac8>]"
      ]
     },
     "execution_count": 27,
     "metadata": {},
     "output_type": "execute_result"
    },
    {
     "data": {
      "image/png": "[encoded data removed]",
      "text/plain": [
       "<matplotlib.figure.Figure at 0x7f6b0e25add8>"
      ]
     },
     "metadata": {},
     "output_type": "display_data"
    }
   ],
   "source": [
    "plt.plot(x, data)\n"
   ]
  },
  {
   "cell_type": "markdown",
   "metadata": {},
   "source": [
    "Models can be introspected to find out more about the inputs and outputs."
   ]
  },
  {
   "cell_type": "code",
   "execution_count": 34,
   "metadata": {
    "collapsed": false
   },
   "outputs": [
    {
     "name": "stdout",
     "output_type": "stream",
     "text": [
      "gauss.n_inputs: 1\n",
      "gauss.n_outputs: 1\n"
     ]
    }
   ],
   "source": [
    "print(\"gauss.n_inputs:\", gauss.n_inputs)\n",
    "print(\"gauss.n_outputs:\", gauss.n_outputs)"
   ]
  },
  {
   "cell_type": "markdown",
   "metadata": {},
   "source": [
    "### Fitters"
   ]
  },
  {
   "cell_type": "markdown",
   "metadata": {},
   "source": [
    "Add noise to the data and fit a gaussian."
   ]
  },
  {
   "cell_type": "code",
   "execution_count": 35,
   "metadata": {
    "collapsed": false
   },
   "outputs": [
    {
     "data": {
      "text/plain": [
       "[<matplotlib.lines.Line2D at 0x7f6b0db60320>]"
      ]
     },
     "execution_count": 35,
     "metadata": {},
     "output_type": "execute_result"
    },
    {
     "data": {
      "image/png": "[encoded data removed]",
      "text/plain": [
       "<matplotlib.figure.Figure at 0x7f6b0dbfdba8>"
      ]
     },
     "metadata": {},
     "output_type": "display_data"
    }
   ],
   "source": [
    "data = gauss(x) + np.random.normal(0, 0.4, x.shape)\n",
    "plt.plot(x, data)"
   ]
  },
  {
   "cell_type": "markdown",
   "metadata": {},
   "source": [
    "Fitters are under a common namespace too:"
   ]
  },
  {
   "cell_type": "code",
   "execution_count": 36,
   "metadata": {
    "collapsed": true
   },
   "outputs": [],
   "source": [
    "from astropy.modeling import fitting"
   ]
  },
  {
   "cell_type": "markdown",
   "metadata": {},
   "source": [
    "Create a fitter which uses the Levenberg-Marquardt optimization algorithm and least squares statistics.\n",
    "\n",
    "Then pass the model and the data to the fitter. The output is a new model with fitted parameters.\n"
   ]
  },
  {
   "cell_type": "code",
   "execution_count": 37,
   "metadata": {
    "collapsed": false
   },
   "outputs": [],
   "source": [
    "fitter = fitting.LevMarLSQFitter()\n",
    "model = fitter(gauss, x, data)"
   ]
  },
  {
   "cell_type": "code",
   "execution_count": 39,
   "metadata": {
    "collapsed": false
   },
   "outputs": [
    {
     "name": "stdout",
     "output_type": "stream",
     "text": [
      "[ 9.96221675  1.39637714  1.20228252]\n",
      "[ 10.    1.4   1.2]\n"
     ]
    }
   ],
   "source": [
    "print(model.parameters)\n",
    "#print(gauss.parameters)"
   ]
  },
  {
   "cell_type": "code",
   "execution_count": 40,
   "metadata": {
    "collapsed": false
   },
   "outputs": [
    {
     "data": {
      "text/plain": [
       "<matplotlib.legend.Legend at 0x7f6b07f59630>"
      ]
     },
     "execution_count": 40,
     "metadata": {},
     "output_type": "execute_result"
    },
    {
     "data": {
      "image/png": "[encoded data removed]",
      "text/plain": [
       "<matplotlib.figure.Figure at 0x7f6b07f88198>"
      ]
     },
     "metadata": {},
     "output_type": "display_data"
    }
   ],
   "source": [
    "plt.plot(x, data, label='data')\n",
    "plt.plot(x, model(x), 'r', label='gaussian')\n",
    "plt.legend(loc=2)"
   ]
  },
  {
   "cell_type": "markdown",
   "metadata": {},
   "source": [
    "Fitters support parameter constraints of type *fixed*, *tied* and *bounds*.\n",
    "\n",
    "Fixed parameter constraints are boolean attributes. Let's fix the amplitude to its original value."
   ]
  },
  {
   "cell_type": "code",
   "execution_count": 42,
   "metadata": {
    "collapsed": false
   },
   "outputs": [
    {
     "name": "stdout",
     "output_type": "stream",
     "text": [
      "[ 10.           1.39637388   1.19918808]\n"
     ]
    }
   ],
   "source": [
    "gauss.amplitude.fixed = True\n",
    "model = fitter(gauss, x, data)\n",
    "print(model.parameters)"
   ]
  },
  {
   "cell_type": "markdown",
   "metadata": {},
   "source": [
    "Bounds can be set on a parameter either by using *min* and *max* or the *bounds* attribute."
   ]
  },
  {
   "cell_type": "code",
   "execution_count": 43,
   "metadata": {
    "collapsed": false
   },
   "outputs": [
    {
     "name": "stdout",
     "output_type": "stream",
     "text": [
      "(0.1, 0.6)\n"
     ]
    }
   ],
   "source": [
    "gauss.stddev.min = .1\n",
    "gauss.stddev.max = .6\n",
    "print(gauss.stddev.bounds)"
   ]
  },
  {
   "cell_type": "markdown",
   "metadata": {},
   "source": [
    "To show the mechanism of tieing (or linking) two parameters in the next example the stddev parameter is tied to the amplitude."
   ]
  },
  {
   "cell_type": "code",
   "execution_count": 45,
   "metadata": {
    "collapsed": true
   },
   "outputs": [],
   "source": [
    "def tie_stddev_ampl(model):\n",
    "    return model.amplitude / 3.78\n",
    "\n",
    "gauss.stddev.tied = tie_stddev_ampl"
   ]
  },
  {
   "cell_type": "code",
   "execution_count": 46,
   "metadata": {
    "collapsed": false
   },
   "outputs": [
    {
     "name": "stdout",
     "output_type": "stream",
     "text": [
      "Model: Gaussian1D\n",
      "Inputs: ('x',)\n",
      "Outputs: ('y',)\n",
      "Model set size: 1\n",
      "Parameters:\n",
      "    amplitude      mean        stddev   \n",
      "    --------- ------------- ------------\n",
      "         10.0 1.29289813441 2.6455026455\n"
     ]
    },
    {
     "data": {
      "text/plain": [
       "[<matplotlib.lines.Line2D at 0x7f6b07f98278>]"
      ]
     },
     "execution_count": 46,
     "metadata": {},
     "output_type": "execute_result"
    },
    {
     "data": {
      "image/png": "[encoded data removed]",
      "text/plain": [
       "<matplotlib.figure.Figure at 0x7f6b07f6e320>"
      ]
     },
     "metadata": {},
     "output_type": "display_data"
    }
   ],
   "source": [
    "model_tied = fitter(gauss, x, data)\n",
    "print(model_tied)\n",
    "plt.plot(x, data)\n",
    "plt.plot(x, model_tied(x))"
   ]
  },
  {
   "cell_type": "markdown",
   "metadata": {},
   "source": [
    "Support for parameter constraints varies between fitters. To see what is supported:"
   ]
  },
  {
   "cell_type": "code",
   "execution_count": 47,
   "metadata": {
    "collapsed": false
   },
   "outputs": [
    {
     "name": "stdout",
     "output_type": "stream",
     "text": [
      "['fixed', 'tied', 'bounds']\n"
     ]
    }
   ],
   "source": [
    "print(fitting.LevMarLSQFitter.supported_constraints)"
   ]
  },
  {
   "cell_type": "markdown",
   "metadata": {},
   "source": [
    "astropy.modeling has several other fitters: *SimplexLSQFitter*, *SLSQPLSQFitter* and *LinearLSQFitter*.\n",
    "\n",
    "The last one can be used only with linear models and provides an exact solution."
   ]
  },
  {
   "cell_type": "markdown",
   "metadata": {},
   "source": [
    "#### Example\n",
    "Create a Chebyshev model, evaluate it and add noise to the data."
   ]
  },
  {
   "cell_type": "code",
   "execution_count": 48,
   "metadata": {
    "collapsed": false
   },
   "outputs": [
    {
     "data": {
      "text/plain": [
       "[<matplotlib.lines.Line2D at 0x7f6b07e45550>]"
      ]
     },
     "execution_count": 48,
     "metadata": {},
     "output_type": "execute_result"
    },
    {
     "data": {
      "image/png": "[encoded data removed]",
      "text/plain": [
       "<matplotlib.figure.Figure at 0x7f6b07f23ef0>"
      ]
     },
     "metadata": {},
     "output_type": "display_data"
    }
   ],
   "source": [
    "cheb1 = models.Chebyshev1D(degree=3, c0=1, c2=1, c3=1)\n",
    "\n",
    "data = cheb1(x) + np.random.normal(0, 10, x.shape)\n",
    "plt.plot(x, data, 'r')"
   ]
  },
  {
   "cell_type": "markdown",
   "metadata": {},
   "source": [
    "Fit a *Chebyshev1D* polynomial using the *LinearLSQFitter*."
   ]
  },
  {
   "cell_type": "code",
   "execution_count": 49,
   "metadata": {
    "collapsed": false
   },
   "outputs": [
    {
     "data": {
      "text/plain": [
       "<matplotlib.legend.Legend at 0x7f6b07e2f2e8>"
      ]
     },
     "execution_count": 49,
     "metadata": {},
     "output_type": "execute_result"
    },
    {
     "data": {
      "image/png": "[encoded data removed]",
      "text/plain": [
       "<matplotlib.figure.Figure at 0x7f6b07e9cfd0>"
      ]
     },
     "metadata": {},
     "output_type": "display_data"
    }
   ],
   "source": [
    "linfitter = fitting.LinearLSQFitter()\n",
    "model = linfitter(cheb1, x, data)\n",
    "\n",
    "plt.plot(x, data, label='data')\n",
    "plt.plot(x, model(x), 'r', label='fitted Chebyshev1D')\n",
    "plt.legend(loc=2)"
   ]
  },
  {
   "cell_type": "markdown",
   "metadata": {},
   "source": [
    "### Exercise 1:\n",
    "\n",
    "#Generate fake data\n",
    "```\n",
    "np.random.seed(0)\n",
    "x = np.linspace(-5., 5., 200)\n",
    "y = 3 * np.exp(-0.5 * (x - 1.3)**2 / 0.8**2)\n",
    "y += np.random.normal(0., 0.2, x.shape)\n",
    "```\n",
    "- Fit the data with a Trapezoid1D model.\n",
    "- Fit a Gaussian1D model to it.\n",
    "- Display the results."
   ]
  },
  {
   "cell_type": "markdown",
   "metadata": {},
   "source": [
    "### Model Sets"
   ]
  },
  {
   "cell_type": "markdown",
   "metadata": {},
   "source": [
    "There are cases when it's useful to describe many models of the same type but with different parameter values.\n",
    "This could be done by passing *n_models* to the model with an integer value indicating the number of models.\n",
    "This is especially useful in the context of simultaneously fitting many linear models using the *LinearLSQFittter*.\n",
    "\n",
    "Evaluation of sets of models works for all models while fitting of sets of models is currently supported only for linear models."
   ]
  },
  {
   "cell_type": "code",
   "execution_count": 50,
   "metadata": {
    "collapsed": false
   },
   "outputs": [
    {
     "name": "stdout",
     "output_type": "stream",
     "text": [
      "Model: Polynomial1D\n",
      "Inputs: ('x',)\n",
      "Outputs: ('y',)\n",
      "Model set size: 10\n",
      "Degree: 2\n",
      "Parameters:\n",
      "     c0  c1  c2\n",
      "    --- --- ---\n",
      "    0.5 0.0 1.0\n",
      "    0.5 0.0 1.0\n",
      "    0.5 0.0 1.0\n",
      "    0.5 0.0 1.0\n",
      "    0.5 0.0 1.0\n",
      "    0.5 0.0 1.0\n",
      "    0.5 0.0 1.0\n",
      "    0.5 0.0 1.0\n",
      "    0.5 0.0 1.0\n",
      "    0.5 0.0 1.0\n"
     ]
    }
   ],
   "source": [
    "poly = models.Polynomial1D(degree=2, c0=0.5, c1=0, c2=1) # one model\n",
    "\n",
    "poly10 = models.Polynomial1D(degree=2, c0=0.5*np.ones(10), c2=np.ones(10), n_models=10) # 10 models\n",
    "print(poly10)"
   ]
  },
  {
   "cell_type": "code",
   "execution_count": 53,
   "metadata": {
    "collapsed": false
   },
   "outputs": [],
   "source": [
    "poly10real = models.Polynomial1D(degree=2, c0=0.5*np.ones(10) * np.random.normal(0, .1, 10),\n",
    "                             c2=np.ones(10) * np.random.normal(1, .1, 10), n_models=10)\n",
    "#print(poly10real)"
   ]
  },
  {
   "cell_type": "code",
   "execution_count": 61,
   "metadata": {
    "collapsed": false
   },
   "outputs": [
    {
     "data": {
      "image/png": "[encoded data removed]",
      "text/plain": [
       "<matplotlib.figure.Figure at 0x7f6b063f3fd0>"
      ]
     },
     "metadata": {},
     "output_type": "display_data"
    }
   ],
   "source": [
    "# Evaluate the model on data in the range [-1, 21].\n",
    "\n",
    "x = np.linspace(-1, 1, 21)\n",
    "y = poly10real(x, model_set_axis=False)\n",
    "for i in y:\n",
    "    plt.plot(x, i, 'b')"
   ]
  },
  {
   "cell_type": "code",
   "execution_count": 58,
   "metadata": {
    "collapsed": false
   },
   "outputs": [
    {
     "name": "stdout",
     "output_type": "stream",
     "text": [
      "Model: Polynomial1D\n",
      "Inputs: ('x',)\n",
      "Outputs: ('y',)\n",
      "Model set size: 10\n",
      "Degree: 2\n",
      "Parameters:\n",
      "            c0                c1              c2      \n",
      "    ----------------- ----------------- --------------\n",
      "      0.0167720763301 1.15347846714e-16  1.07219220506\n",
      "      0.0590524295994               0.0 0.944424848573\n",
      "      0.0532369349062 1.15347846714e-16  1.04860158383\n",
      "      0.0580779845399 1.15347846714e-16    1.029971166\n",
      "     -0.0220528995521 1.15347846714e-16 0.988169137821\n",
      "    -0.00607028522162               0.0  1.12285967338\n",
      "     -0.0764065187515 1.15347846714e-16  1.10758801906\n",
      "      0.0216477192201 1.15347846714e-16  0.93468792652\n",
      "      0.0549164893339 1.15347846714e-16 0.933103825345\n",
      "      0.0285062951735 1.15347846714e-16  1.05513270897\n"
     ]
    }
   ],
   "source": [
    "fitpoly = linfitter(poly10, x, data)\n",
    "print(fitpoly)"
   ]
  },
  {
   "cell_type": "code",
   "execution_count": 64,
   "metadata": {
    "collapsed": false
   },
   "outputs": [
    {
     "data": {
      "image/png": "[encoded data removed]",
      "text/plain": [
       "<matplotlib.figure.Figure at 0x7f6b0641a080>"
      ]
     },
     "metadata": {},
     "output_type": "display_data"
    }
   ],
   "source": [
    "fitdata = fitpoly(x, model_set_axis=False)\n",
    "\n",
    "for i in fitdata:\n",
    "    plt.plot(x, i)"
   ]
  },
  {
   "cell_type": "markdown",
   "metadata": {},
   "source": [
    "### Compound models"
   ]
  },
  {
   "cell_type": "markdown",
   "metadata": {},
   "source": [
    "astropy.modeling supports model combination using arithmetic operators and the specially defined **join (&)** and **composition ( | )** operators."
   ]
  },
  {
   "cell_type": "code",
   "execution_count": 65,
   "metadata": {
    "collapsed": false
   },
   "outputs": [],
   "source": [
    "g1 = models.Gaussian1D(2, 0, 0.2, name='guass1') # models have names\n",
    "g2 = models.Gaussian1D(3, 4, 1.5, name='gauss2')\n",
    "p1 = models.Polynomial1D(1, c0=1, c1=0.2, name='poly')\n",
    "model = g1 + g2 + p1"
   ]
  },
  {
   "cell_type": "markdown",
   "metadata": {},
   "source": [
    "Evaluating *model* is equivalent to evluating *g1(x) + g2(x) + p1(x)*."
   ]
  },
  {
   "cell_type": "code",
   "execution_count": 66,
   "metadata": {
    "collapsed": false
   },
   "outputs": [
    {
     "data": {
      "text/plain": [
       "True"
      ]
     },
     "execution_count": 66,
     "metadata": {},
     "output_type": "execute_result"
    }
   ],
   "source": [
    "model(2.5) == g1(2.5) + g2(2.5) + p1(2.5)"
   ]
  },
  {
   "cell_type": "markdown",
   "metadata": {},
   "source": [
    "The other arithmetic operators work similarly. The only requirement is that all models accept the same input."
   ]
  },
  {
   "cell_type": "markdown",
   "metadata": {},
   "source": [
    "Compound models support the *param_names* and *parameters* attributes the same way simple models do."
   ]
  },
  {
   "cell_type": "code",
   "execution_count": 67,
   "metadata": {
    "collapsed": false
   },
   "outputs": [
    {
     "name": "stdout",
     "output_type": "stream",
     "text": [
      "('amplitude_0', 'mean_0', 'stddev_0', 'amplitude_1', 'mean_1', 'stddev_1', 'c0_2', 'c1_2')\n",
      "[ 2.   0.   0.2  3.   4.   1.5  1.   0.2]\n"
     ]
    }
   ],
   "source": [
    "print(model.param_names)\n",
    "print(model.parameters)"
   ]
  },
  {
   "cell_type": "markdown",
   "metadata": {},
   "source": [
    "Parameter assignment works too. "
   ]
  },
  {
   "cell_type": "code",
   "execution_count": 68,
   "metadata": {
    "collapsed": false
   },
   "outputs": [
    {
     "name": "stdout",
     "output_type": "stream",
     "text": [
      "[ 10.    0.    0.2   3.    4.    1.5   1.    0.2]\n"
     ]
    }
   ],
   "source": [
    "model.amplitude_0 = 10\n",
    "print(model.parameters)"
   ]
  },
  {
   "cell_type": "markdown",
   "metadata": {},
   "source": [
    "If child models have names they can be printed, otherwise *None* is printed."
   ]
  },
  {
   "cell_type": "code",
   "execution_count": 69,
   "metadata": {
    "collapsed": false
   },
   "outputs": [
    {
     "name": "stdout",
     "output_type": "stream",
     "text": [
      "('guass1', 'gauss2', 'poly')\n"
     ]
    }
   ],
   "source": [
    "print(model.submodel_names)"
   ]
  },
  {
   "cell_type": "markdown",
   "metadata": {},
   "source": [
    "Compound models can be sliced or indexed using their names or numerical indices like python lists."
   ]
  },
  {
   "cell_type": "code",
   "execution_count": 71,
   "metadata": {
    "collapsed": false
   },
   "outputs": [
    {
     "name": "stdout",
     "output_type": "stream",
     "text": [
      "Model: Gaussian1D\n",
      "Name: gauss2\n",
      "Inputs: ('x',)\n",
      "Outputs: ('y',)\n",
      "Model set size: 1\n",
      "Parameters:\n",
      "    amplitude mean stddev\n",
      "    --------- ---- ------\n",
      "          3.0  4.0    1.5\n"
     ]
    }
   ],
   "source": [
    "print(model['gauss2'])"
   ]
  },
  {
   "cell_type": "code",
   "execution_count": 72,
   "metadata": {
    "collapsed": false
   },
   "outputs": [
    {
     "name": "stdout",
     "output_type": "stream",
     "text": [
      "Model: CompoundModel2\n",
      "Inputs: ('x',)\n",
      "Outputs: ('y',)\n",
      "Model set size: 1\n",
      "Expression: [0] + [1]\n",
      "Components: \n",
      "    [0]: <Gaussian1D(amplitude=3.0, mean=4.0, stddev=1.5, name='gauss2')>\n",
      "\n",
      "    [1]: <Polynomial1D(1, c0=1.0, c1=0.2, name='poly')>\n",
      "Parameters:\n",
      "    amplitude_1 mean_1 stddev_1 c0_2 c1_2\n",
      "    ----------- ------ -------- ---- ----\n",
      "            3.0    4.0      1.5  1.0  0.2\n"
     ]
    }
   ],
   "source": [
    "print(model['gauss2' : ])"
   ]
  },
  {
   "cell_type": "markdown",
   "metadata": {},
   "source": [
    "The composition operator, *|*, combines models serially by chaining them one after the other. \n",
    "\n",
    "The number of outputs of a model must match the number of inputs of the next one."
   ]
  },
  {
   "cell_type": "code",
   "execution_count": 73,
   "metadata": {
    "collapsed": true
   },
   "outputs": [],
   "source": [
    "p2_1 = models.Polynomial2D(degree=1, c0_0=2, c0_1=.1, c1_0=2, name='Poly_X')\n",
    "rot = models.Rotation2D(angle=23.1, name='Rotation')"
   ]
  },
  {
   "cell_type": "markdown",
   "metadata": {},
   "source": [
    "Chaining these two models as below is an error because the polynomial has one output, while the rotation has two inputs."
   ]
  },
  {
   "cell_type": "code",
   "execution_count": 74,
   "metadata": {
    "collapsed": false
   },
   "outputs": [
    {
     "ename": "ModelDefinitionError",
     "evalue": "Unsupported operands for |: Poly_X (n_inputs=2, n_outputs=1) and Rotation (n_inputs=2, n_outputs=2); n_outputs for the left-hand model must match n_inputs for the right-hand model.",
     "output_type": "error",
     "traceback": [
      "\u001b[1;31m---------------------------------------------------------------------------\u001b[0m",
      "\u001b[1;31mModelDefinitionError\u001b[0m                      Traceback (most recent call last)",
      "\u001b[1;32m<ipython-input-74-6928173b554b>\u001b[0m in \u001b[0;36m<module>\u001b[1;34m()\u001b[0m\n\u001b[1;32m----> 1\u001b[1;33m \u001b[0mbroken_model\u001b[0m \u001b[1;33m=\u001b[0m \u001b[0mp2_1\u001b[0m \u001b[1;33m|\u001b[0m \u001b[0mrot\u001b[0m\u001b[1;33m\u001b[0m\u001b[0m\n\u001b[0m",
      "\u001b[1;32m/user/dencheva/conda-dev/lib/python3.5/site-packages/astropy/modeling/core.py\u001b[0m in \u001b[0;36m<lambda>\u001b[1;34m(left, right)\u001b[0m\n\u001b[0;32m     74\u001b[0m     \u001b[1;31m# Perform an arithmetic operation on two models.\u001b[0m\u001b[1;33m\u001b[0m\u001b[1;33m\u001b[0m\u001b[0m\n\u001b[0;32m     75\u001b[0m     return lambda left, right: _CompoundModelMeta._from_operator(oper,\n\u001b[1;32m---> 76\u001b[1;33m             left, right, **kwargs)\n\u001b[0m\u001b[0;32m     77\u001b[0m \u001b[1;33m\u001b[0m\u001b[0m\n\u001b[0;32m     78\u001b[0m \u001b[1;33m\u001b[0m\u001b[0m\n",
      "\u001b[1;32m/user/dencheva/conda-dev/lib/python3.5/site-packages/astropy/modeling/core.py\u001b[0m in \u001b[0;36m_from_operator\u001b[1;34m(mcls, operator, left, right, additional_members)\u001b[0m\n\u001b[0;32m   1975\u001b[0m             \u001b[0mmodname\u001b[0m \u001b[1;33m=\u001b[0m \u001b[1;34m'__main__'\u001b[0m\u001b[1;33m\u001b[0m\u001b[0m\n\u001b[0;32m   1976\u001b[0m \u001b[1;33m\u001b[0m\u001b[0m\n\u001b[1;32m-> 1977\u001b[1;33m         \u001b[0minputs\u001b[0m\u001b[1;33m,\u001b[0m \u001b[0moutputs\u001b[0m \u001b[1;33m=\u001b[0m \u001b[0mmcls\u001b[0m\u001b[1;33m.\u001b[0m\u001b[0m_check_inputs_and_outputs\u001b[0m\u001b[1;33m(\u001b[0m\u001b[0moperator\u001b[0m\u001b[1;33m,\u001b[0m \u001b[0mleft\u001b[0m\u001b[1;33m,\u001b[0m \u001b[0mright\u001b[0m\u001b[1;33m)\u001b[0m\u001b[1;33m\u001b[0m\u001b[0m\n\u001b[0m\u001b[0;32m   1978\u001b[0m \u001b[1;33m\u001b[0m\u001b[0m\n\u001b[0;32m   1979\u001b[0m         \u001b[1;32mif\u001b[0m \u001b[0moperator\u001b[0m \u001b[1;32min\u001b[0m \u001b[1;33m(\u001b[0m\u001b[1;34m'|'\u001b[0m\u001b[1;33m,\u001b[0m \u001b[1;34m'+'\u001b[0m\u001b[1;33m,\u001b[0m \u001b[1;34m'-'\u001b[0m\u001b[1;33m)\u001b[0m\u001b[1;33m:\u001b[0m\u001b[1;33m\u001b[0m\u001b[0m\n",
      "\u001b[1;32m/user/dencheva/conda-dev/lib/python3.5/site-packages/astropy/modeling/core.py\u001b[0m in \u001b[0;36m_check_inputs_and_outputs\u001b[1;34m(mcls, operator, left, right)\u001b[0m\n\u001b[0;32m   2036\u001b[0m                     \"for the right-hand model.\".format(\n\u001b[0;32m   2037\u001b[0m                         \u001b[0mleft\u001b[0m\u001b[1;33m.\u001b[0m\u001b[0mname\u001b[0m\u001b[1;33m,\u001b[0m \u001b[0mleft\u001b[0m\u001b[1;33m.\u001b[0m\u001b[0mn_inputs\u001b[0m\u001b[1;33m,\u001b[0m \u001b[0mleft\u001b[0m\u001b[1;33m.\u001b[0m\u001b[0mn_outputs\u001b[0m\u001b[1;33m,\u001b[0m \u001b[0mright\u001b[0m\u001b[1;33m.\u001b[0m\u001b[0mname\u001b[0m\u001b[1;33m,\u001b[0m\u001b[1;33m\u001b[0m\u001b[0m\n\u001b[1;32m-> 2038\u001b[1;33m                         right.n_inputs, right.n_outputs))\n\u001b[0m\u001b[0;32m   2039\u001b[0m         \u001b[1;32melif\u001b[0m \u001b[0moperator\u001b[0m \u001b[1;33m==\u001b[0m \u001b[1;34m'&'\u001b[0m\u001b[1;33m:\u001b[0m\u001b[1;33m\u001b[0m\u001b[0m\n\u001b[0;32m   2040\u001b[0m             \u001b[0minputs\u001b[0m \u001b[1;33m=\u001b[0m \u001b[0mcombine_labels\u001b[0m\u001b[1;33m(\u001b[0m\u001b[0mleft\u001b[0m\u001b[1;33m.\u001b[0m\u001b[0minputs\u001b[0m\u001b[1;33m,\u001b[0m \u001b[0mright\u001b[0m\u001b[1;33m.\u001b[0m\u001b[0minputs\u001b[0m\u001b[1;33m)\u001b[0m\u001b[1;33m\u001b[0m\u001b[0m\n",
      "\u001b[1;31mModelDefinitionError\u001b[0m: Unsupported operands for |: Poly_X (n_inputs=2, n_outputs=1) and Rotation (n_inputs=2, n_outputs=2); n_outputs for the left-hand model must match n_inputs for the right-hand model."
     ]
    }
   ],
   "source": [
    "broken_model = p2_1 | rot "
   ]
  },
  {
   "cell_type": "markdown",
   "metadata": {},
   "source": [
    "The join operator, *&*, evaluates the child models on independent inputs and the results are concatenated.\n",
    "\n",
    "The number of inputs passed to the combined model must equal the total number of inputs of all models."
   ]
  },
  {
   "cell_type": "code",
   "execution_count": 75,
   "metadata": {
    "collapsed": true
   },
   "outputs": [],
   "source": [
    "p2_2 = models.Polynomial2D(degree=1, c0_0=1, c1_0=2, name='Poly_Y')\n",
    "model = p2_1 & p2_2 | rot"
   ]
  },
  {
   "cell_type": "code",
   "execution_count": 76,
   "metadata": {
    "collapsed": false
   },
   "outputs": [
    {
     "name": "stdout",
     "output_type": "stream",
     "text": [
      "(2.8420434013885805, 4.908603600274077)\n"
     ]
    }
   ],
   "source": [
    "#x = np.linspace(1, 10, 23)\n",
    "#y = np.linspace(-10, 10, 23)\n",
    "#plt.imshow(model(x, y, x, y))\n",
    "x = 1.2\n",
    "y = 1.4\n",
    "print(model(x, y, x, y))"
   ]
  },
  {
   "cell_type": "markdown",
   "metadata": {},
   "source": [
    "The **Mapping** model takes a tuple of indices into the inputs and returns the corresponding inputs. It is useful for changing the order of inputs, dropping or adding inputs. "
   ]
  },
  {
   "cell_type": "code",
   "execution_count": 77,
   "metadata": {
    "collapsed": false
   },
   "outputs": [
    {
     "name": "stdout",
     "output_type": "stream",
     "text": [
      "(2.8420434013885805, 4.908603600274077)\n"
     ]
    }
   ],
   "source": [
    "model = models.Mapping((0, 1, 0, 1)) | p2_1 & p2_2 | rot\n",
    "print(model(x, y))"
   ]
  },
  {
   "cell_type": "markdown",
   "metadata": {},
   "source": [
    "Compound models also support parameter constraints. Constraints are defined on parameters of the compound model, not parameters of the submodels."
   ]
  },
  {
   "cell_type": "markdown",
   "metadata": {
    "collapsed": true
   },
   "source": [
    "Example 2:\n",
    "\n",
    "- read a spectrum from a text file (data/sample.txt).\n",
    "- Using the rest wavelengths as initial values, fit a gaussian to the H beta and OIII lines.\n",
    "\n",
    "Use the rest wavelengths as initial values for the locaiton of the lines.\n",
    "```\n",
    "Hbeta = 4862.721\n",
    "Halpha = 6564.614\n",
    "OIII_1 = 4958.911\n",
    "OIII_2 = 5008.239\n",
    "Na = 6549.86\n",
    "Nb = 6585.27\n",
    "Sa = 6718.29\n",
    "Sb = 6732.68\n",
    "```"
   ]
  },
  {
   "cell_type": "markdown",
   "metadata": {},
   "source": [
    "### Inverse of a model"
   ]
  },
  {
   "cell_type": "markdown",
   "metadata": {},
   "source": [
    "Models have their analytical inverse already defined. It is also possible to assign a \"custom_inverse\" by assigning a model to the *inverse* attribute."
   ]
  },
  {
   "cell_type": "code",
   "execution_count": 78,
   "metadata": {
    "collapsed": false
   },
   "outputs": [
    {
     "name": "stdout",
     "output_type": "stream",
     "text": [
      "Model: Rotation2D\n",
      "Inputs: ('x', 'y')\n",
      "Outputs: ('x', 'y')\n",
      "Model set size: 1\n",
      "Parameters:\n",
      "    angle\n",
      "    -----\n",
      "    -23.1\n"
     ]
    }
   ],
   "source": [
    "print(rot.inverse)"
   ]
  },
  {
   "cell_type": "code",
   "execution_count": 79,
   "metadata": {
    "collapsed": false
   },
   "outputs": [
    {
     "ename": "NotImplementedError",
     "evalue": "An analytical inverse transform has not been implemented for this model.",
     "output_type": "error",
     "traceback": [
      "\u001b[1;31m---------------------------------------------------------------------------\u001b[0m",
      "\u001b[1;31mNotImplementedError\u001b[0m                       Traceback (most recent call last)",
      "\u001b[1;32m<ipython-input-79-6e3e91389fde>\u001b[0m in \u001b[0;36m<module>\u001b[1;34m()\u001b[0m\n\u001b[1;32m----> 1\u001b[1;33m \u001b[0mprint\u001b[0m\u001b[1;33m(\u001b[0m\u001b[0mp2_2\u001b[0m\u001b[1;33m.\u001b[0m\u001b[0minverse\u001b[0m\u001b[1;33m)\u001b[0m\u001b[1;33m\u001b[0m\u001b[0m\n\u001b[0m",
      "\u001b[1;32m/user/dencheva/conda-dev/lib/python3.5/site-packages/astropy/modeling/core.py\u001b[0m in \u001b[0;36minverse\u001b[1;34m(self)\u001b[0m\n\u001b[0;32m    862\u001b[0m             \u001b[1;32mreturn\u001b[0m \u001b[0mself\u001b[0m\u001b[1;33m.\u001b[0m\u001b[0m_inverse\u001b[0m\u001b[1;33m(\u001b[0m\u001b[1;33m)\u001b[0m\u001b[1;33m\u001b[0m\u001b[0m\n\u001b[0;32m    863\u001b[0m \u001b[1;33m\u001b[0m\u001b[0m\n\u001b[1;32m--> 864\u001b[1;33m         raise NotImplementedError(\"An analytical inverse transform has not \"\n\u001b[0m\u001b[0;32m    865\u001b[0m                                   \"been implemented for this model.\")\n\u001b[0;32m    866\u001b[0m \u001b[1;33m\u001b[0m\u001b[0m\n",
      "\u001b[1;31mNotImplementedError\u001b[0m: An analytical inverse transform has not been implemented for this model."
     ]
    }
   ],
   "source": [
    "print(p2_2.inverse)"
   ]
  },
  {
   "cell_type": "code",
   "execution_count": 80,
   "metadata": {
    "collapsed": false
   },
   "outputs": [
    {
     "name": "stdout",
     "output_type": "stream",
     "text": [
      "Model: Polynomial2D\n",
      "Name: Poly_X\n",
      "Inputs: ('x', 'y')\n",
      "Outputs: ('z',)\n",
      "Model set size: 1\n",
      "Degree: 1\n",
      "Parameters:\n",
      "    c0_0 c1_0 c0_1\n",
      "    ---- ---- ----\n",
      "     2.0  2.0  0.1\n"
     ]
    }
   ],
   "source": [
    "p2_2.inverse = p2_1\n",
    "print(p2_2.inverse)"
   ]
  },
  {
   "cell_type": "markdown",
   "metadata": {},
   "source": [
    "### Creating a new model"
   ]
  },
  {
   "cell_type": "markdown",
   "metadata": {},
   "source": [
    "Quite a few models are already defined in modeling."
   ]
  },
  {
   "cell_type": "code",
   "execution_count": 81,
   "metadata": {
    "collapsed": false
   },
   "outputs": [
    {
     "ename": "SyntaxError",
     "evalue": "invalid syntax (<ipython-input-81-9e08975948ee>, line 1)",
     "output_type": "error",
     "traceback": [
      "\u001b[1;36m  File \u001b[1;32m\"<ipython-input-81-9e08975948ee>\"\u001b[1;36m, line \u001b[1;32m1\u001b[0m\n\u001b[1;33m    models.\u001b[0m\n\u001b[1;37m           ^\u001b[0m\n\u001b[1;31mSyntaxError\u001b[0m\u001b[1;31m:\u001b[0m invalid syntax\n"
     ]
    }
   ],
   "source": [
    "models."
   ]
  },
  {
   "cell_type": "markdown",
   "metadata": {},
   "source": [
    "In most cases a new model can be easily defined following an existing model as an example.\n",
    "\n",
    "However, there's also a decorator, which works with user defined functions and turns them onto models."
   ]
  },
  {
   "cell_type": "code",
   "execution_count": 82,
   "metadata": {
    "collapsed": false
   },
   "outputs": [
    {
     "name": "stdout",
     "output_type": "stream",
     "text": [
      "-0.4693033951206922\n"
     ]
    }
   ],
   "source": [
    "from astropy.modeling.models import custom_model\n",
    "\n",
    "@custom_model\n",
    "def sine_model(x, amplitude=1, frequency=1):\n",
    "    return amplitude * np.sin(2 * np.pi * frequency * x)\n",
    "\n",
    "model = sine_model(amplitude=3, frequency=2.1) # initialize the model\n",
    "print(model(0.25))"
   ]
  },
  {
   "cell_type": "markdown",
   "metadata": {},
   "source": [
    "To supply also a derivative, *custom_model* can be used as a function."
   ]
  },
  {
   "cell_type": "code",
   "execution_count": 83,
   "metadata": {
    "collapsed": false
   },
   "outputs": [
    {
     "name": "stdout",
     "output_type": "stream",
     "text": [
      "-0.4693033951206922\n"
     ]
    }
   ],
   "source": [
    "def sine_model(x, amplitude=1, frequency=1):\n",
    "    return amplitude * np.sin(2 * np.pi * frequency * x)\n",
    "\n",
    "def sine_deriv(x, amplitude=1, frequency=1):\n",
    "    return 2 * np.pi * amplitude * np.cos(2 * np.pi * frequency *x)\n",
    "\n",
    "SineModel = custom_model(sine_model, fit_deriv=sine_deriv) # create the class\n",
    "model = SineModel(3, 2.1)# and initialize the model\n",
    "print(model(0.25))"
   ]
  }
 ],
 "metadata": {
  "anaconda-cloud": {},
  "kernelspec": {
   "display_name": "Python [Root]",
   "language": "python",
   "name": "Python [Root]"
  },
  "language_info": {
   "codemirror_mode": {
    "name": "ipython",
    "version": 3
   },
   "file_extension": ".py",
   "mimetype": "text/x-python",
   "name": "python",
   "nbconvert_exporter": "python",
   "pygments_lexer": "ipython3",
   "version": "3.5.2"
  }
 },
 "nbformat": 4,
 "nbformat_minor": 0
}

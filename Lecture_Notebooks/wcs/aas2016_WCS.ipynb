{
 "cells": [
  {
   "cell_type": "code",
   "execution_count": 1,
   "metadata": {
    "collapsed": true
   },
   "outputs": [],
   "source": [
    "import numpy as np\n",
    "%matplotlib inline\n",
    "from matplotlib import pyplot as plt"
   ]
  },
  {
   "cell_type": "markdown",
   "metadata": {},
   "source": [
    "## astropy.wcs\n",
    "Implements the FITS WCS standard and some commonly used distortion conventions.\n",
    "\n",
    "This tutorial will show how to create a WCS object from a FITS file and how to use it to transform coordinates."
   ]
  },
  {
   "cell_type": "code",
   "execution_count": 2,
   "metadata": {
    "collapsed": true
   },
   "outputs": [],
   "source": [
    "import os\n",
    "from astropy.io import fits\n",
    "from astropy import wcs"
   ]
  },
  {
   "cell_type": "markdown",
   "metadata": {},
   "source": [
    "Open a file with `astropy.fits` and look at it."
   ]
  },
  {
   "cell_type": "code",
   "execution_count": 6,
   "metadata": {
    "collapsed": false
   },
   "outputs": [
    {
     "name": "stdout",
     "output_type": "stream",
     "text": [
      "Filename: sip.fits\n",
      "No.    Name         Type      Cards   Dimensions   Format\n",
      "0    PRIMARY     PrimaryHDU      62   ()              \n"
     ]
    }
   ],
   "source": [
    "sip_file_name = os.path.join('sip.fits')\n",
    "\n",
    "sip_file = fits.open(sip_file_name)\n",
    "sip_file.info()"
   ]
  },
  {
   "cell_type": "markdown",
   "metadata": {},
   "source": [
    "To create a WCS object pass the header with the WCS kyewords to astropy.wcs.WCS (Primary header in this case)."
   ]
  },
  {
   "cell_type": "code",
   "execution_count": 7,
   "metadata": {
    "collapsed": false
   },
   "outputs": [
    {
     "name": "stderr",
     "output_type": "stream",
     "text": [
      "WARNING: FITSFixedWarning: The WCS transformation has more axes (2) than the image it is associated with (0) [astropy.wcs.wcs]\n"
     ]
    }
   ],
   "source": [
    "w = wcs.WCS(sip_file[0].header)"
   ]
  },
  {
   "cell_type": "markdown",
   "metadata": {},
   "source": [
    "To perform the transformation from detector to sky, including distortions, pass x and y and an 'origin'. The third argument, 'origin', indicates whether the coordinates are 1-based (like FITS), or 0-based (like python)."
   ]
  },
  {
   "cell_type": "code",
   "execution_count": 8,
   "metadata": {
    "collapsed": false
   },
   "outputs": [
    {
     "name": "stdout",
     "output_type": "stream",
     "text": [
      "[ 202.39347618  202.39347618] [ 47.1772851  47.1772851]\n"
     ]
    }
   ],
   "source": [
    "ra, dec = w.all_pix2world([1, 1], [2, 2], 1)\n",
    "print(ra, dec)"
   ]
  },
  {
   "cell_type": "markdown",
   "metadata": {},
   "source": [
    "Perfom the inverse transformation - from sky to detector coordinates.\n",
    "\n",
    "If analytical inverse is not available (often the case in the presence of distortion), then an iterative inverse is performed."
   ]
  },
  {
   "cell_type": "code",
   "execution_count": 10,
   "metadata": {
    "collapsed": false
   },
   "outputs": [
    {
     "name": "stdout",
     "output_type": "stream",
     "text": [
      "[array([ 1.00000005,  1.00000005]), array([ 2.00000006,  2.00000006])]\n"
     ]
    }
   ],
   "source": [
    "print(w.all_world2pix(ra, dec, 1))"
   ]
  },
  {
   "cell_type": "markdown",
   "metadata": {},
   "source": [
    "In some cases it is useful to omit the distortion and perform the core WCS transforms only:"
   ]
  },
  {
   "cell_type": "code",
   "execution_count": 11,
   "metadata": {
    "collapsed": false
   },
   "outputs": [
    {
     "name": "stdout",
     "output_type": "stream",
     "text": [
      "[ 202.39299121  202.39299121] [ 47.17731548  47.17731548]\n"
     ]
    }
   ],
   "source": [
    "ra, dec = w.wcs_pix2world([1, 1], [2, 2], 1)\n",
    "print(ra, dec)"
   ]
  },
  {
   "cell_type": "code",
   "execution_count": 12,
   "metadata": {
    "collapsed": false
   },
   "outputs": [
    {
     "data": {
      "text/plain": [
       "[array([ 1.,  1.]), array([ 2.,  2.])]"
      ]
     },
     "execution_count": 12,
     "metadata": {},
     "output_type": "execute_result"
    }
   ],
   "source": [
    "w.wcs_world2pix(ra, dec, 1)"
   ]
  },
  {
   "cell_type": "markdown",
   "metadata": {},
   "source": [
    "The WCS object can be changed and the new WCS can be written out as a new header.\n",
    "`\n",
    "By default only the primary WCS keywords are written out to the header. Pass a keyword `relax=True` to write out the SIP distortion."
   ]
  },
  {
   "cell_type": "code",
   "execution_count": 13,
   "metadata": {
    "collapsed": false
   },
   "outputs": [
    {
     "name": "stdout",
     "output_type": "stream",
     "text": [
      "WCS Keywords\n",
      "\n",
      "Number of WCS axes: 2\n",
      "CTYPE : 'RA---TAN-SIP'  'DEC--TAN-SIP'  \n",
      "CRVAL : 202.482322805  47.175118929999996  \n",
      "CRPIX : 128.0  128.0  \n",
      "PC1_1 PC1_2  : 0.000249756880272  0.00023017780974399999  \n",
      "PC2_1 PC2_2  : 0.000230428519265  -0.00024996577057699999  \n",
      "CDELT : 1.0  1.0  \n",
      "NAXIS    : 0 0\n"
     ]
    }
   ],
   "source": [
    "# The original WCS\n",
    "w.printwcs()"
   ]
  },
  {
   "cell_type": "code",
   "execution_count": 16,
   "metadata": {
    "collapsed": false
   },
   "outputs": [
    {
     "data": {
      "text/plain": [
       "WCSAXES =                    2 / Number of coordinate axes                      \n",
       "CRPIX1  =                200.0 / Pixel coordinate of reference point            \n",
       "CRPIX2  =                200.0 / Pixel coordinate of reference point            \n",
       "PC1_1   =    0.000249756880272 / Coordinate transformation matrix element       \n",
       "PC1_2   =    0.000230177809744 / Coordinate transformation matrix element       \n",
       "PC2_1   =    0.000230428519265 / Coordinate transformation matrix element       \n",
       "PC2_2   =   -0.000249965770577 / Coordinate transformation matrix element       \n",
       "CDELT1  =                  1.0 / [deg] Coordinate increment at reference point  \n",
       "CDELT2  =                  1.0 / [deg] Coordinate increment at reference point  \n",
       "CUNIT1  = 'deg'                / Units of coordinate increment and value        \n",
       "CUNIT2  = 'deg'                / Units of coordinate increment and value        \n",
       "CTYPE1  = 'RA---TAN-SIP'       / TAN (gnomonic) projection + SIP distortions    \n",
       "CTYPE2  = 'DEC--TAN-SIP'       / TAN (gnomonic) projection + SIP distortions    \n",
       "CRVAL1  =        202.482322805 / [deg] Coordinate value at reference point      \n",
       "CRVAL2  =          47.17511893 / [deg] Coordinate value at reference point      \n",
       "LONPOLE =                180.0 / [deg] Native longitude of celestial pole       \n",
       "LATPOLE =          47.17511893 / [deg] Native latitude of celestial pole        \n",
       "CRDER1  =    4.02509762361E-05 / [deg] Random error in coordinate               \n",
       "CRDER2  =    3.42746131953E-05 / [deg] Random error in coordinate               \n",
       "RADESYS = 'ICRS'               / Equatorial coordinate system                   \n",
       "BP_0_3  =            1.651E-07                                                  \n",
       "AP_ORDER=                    3                                                  \n",
       "B_ORDER =                    3                                                  \n",
       "AP_2_0  =           2.4146E-05                                                  \n",
       "AP_3_0  =           1.4492E-07                                                  \n",
       "BP_1_0  =          -2.6783E-06                                                  \n",
       "AP_1_0  =          -1.4897E-05                                                  \n",
       "BP_2_1  =              1.7E-07                                                  \n",
       "B_3_0   =          -2.0249E-08                                                  \n",
       "BP_1_2  =           3.8917E-09                                                  \n",
       "BP_ORDER=                    3                                                  \n",
       "A_2_1   =           -8.561E-09                                                  \n",
       "A_2_0   =          -2.3863E-05                                                  \n",
       "BP_3_0  =           2.0482E-08                                                  \n",
       "A_ORDER =                    3                                                  \n",
       "B_2_1   =          -1.6583E-07                                                  \n",
       "AP_0_2  =          -2.9425E-06                                                  \n",
       "BP_0_1  =          -1.6588E-05                                                  \n",
       "AP_0_3  =           -3.582E-09                                                  \n",
       "A_0_3   =           3.7746E-09                                                  \n",
       "B_1_1   =          -2.4386E-05                                                  \n",
       "BP_2_0  =           -2.151E-06                                                  \n",
       "AP_2_1  =            6.709E-09                                                  \n",
       "AP_1_2  =           1.7195E-07                                                  \n",
       "B_1_2   =          -5.7813E-09                                                  \n",
       "B_0_2   =             2.31E-05                                                  \n",
       "A_3_0   =          -1.4172E-07                                                  \n",
       "B_0_3   =          -1.6168E-07                                                  \n",
       "AP_0_1  =          -6.4275E-07                                                  \n",
       "A_1_1   =           2.1886E-05                                                  \n",
       "A_0_2   =           2.9656E-06                                                  \n",
       "BP_1_1  =           2.4753E-05                                                  \n",
       "A_1_2   =          -1.6847E-07                                                  \n",
       "B_2_0   =           2.1197E-06                                                  \n",
       "BP_0_2  =          -2.3424E-05                                                  \n",
       "AP_1_1  =           -2.225E-05                                                  "
      ]
     },
     "execution_count": 16,
     "metadata": {},
     "output_type": "execute_result"
    }
   ],
   "source": [
    "w.wcs.crpix = [200, 200]\n",
    "#w.to_header()\n",
    "w.to_header(relax=True)"
   ]
  },
  {
   "cell_type": "markdown",
   "metadata": {},
   "source": [
    "Exercise 1:\n",
    "\n",
    "- Create a WCS object from the file. \n",
    "\n",
    "dist_file_name = 'dist_lookup.fits.gz'\n",
    "\n",
    "This file contains all distortions typical for HST imaging data - SIP, lookup_table and det2im (detector to image - correcting detector irregularities). The lookup table and det2im distortions are stored in separate extensions so you will need to pass as a second argument to `wcs.WCS` the file object (already opened with astropy.io.fits).\n",
    "\n",
    "- Look at the file object with the `info()` method. The lookup_table and det2im distortions are saved in separate extensions.\n",
    "\n",
    "- Modify one of the WCS keywords and save it to file. (As some of the distortion is saved in extensions, use the method `to_fits()` to save the entire WCS."
   ]
  },
  {
   "cell_type": "markdown",
   "metadata": {},
   "source": [
    "Exercise 2:\n",
    "\n",
    "Using the same file create a WCS object for the alternate WCS in this header, by passing also `key='O'` to wcs.WCS.\n",
    "Commpare the two WCSs using the `printwcs()` method`"
   ]
  }
 ],
 "metadata": {
  "anaconda-cloud": {},
  "kernelspec": {
   "display_name": "Python [Root]",
   "language": "python",
   "name": "Python [Root]"
  },
  "language_info": {
   "codemirror_mode": {
    "name": "ipython",
    "version": 3
   },
   "file_extension": ".py",
   "mimetype": "text/x-python",
   "name": "python",
   "nbconvert_exporter": "python",
   "pygments_lexer": "ipython3",
   "version": "3.5.2"
  }
 },
 "nbformat": 4,
 "nbformat_minor": 0
}

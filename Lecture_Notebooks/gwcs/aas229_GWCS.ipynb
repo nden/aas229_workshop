{
 "cells": [
  {
   "cell_type": "markdown",
   "metadata": {
    "slideshow": {
     "slide_type": "slide"
    }
   },
   "source": [
    "# Generalized World Coordinate System  (GWCS)\n"
   ]
  },
  {
   "cell_type": "markdown",
   "metadata": {
    "slideshow": {
     "slide_type": "slide"
    }
   },
   "source": [
    "### Why not FITS WCS?"
   ]
  },
  {
   "cell_type": "markdown",
   "metadata": {
    "slideshow": {
     "slide_type": "slide"
    }
   },
   "source": [
    "- Not flexible\n",
    "  - No distortion handling \n",
    "    - distortion paper never approved\n",
    "    - only one correction per axis allowed\n",
    "- There's no way to represent discontiguous WCSs.\n",
    "- It has all the disadvantages of the FITS format, discussed in detail in \n",
    "\n",
    "  Thomas, B., Jenness. T. et al. 2015, “The Future of Astronomical Data Formats I. Learning from FITS”. Astronomy & Computing,   \n",
    "  Volume 12, p. 133-145, arXiv e-print: 1502.00996. https://github.com/timj/aandc-fits"
   ]
  },
  {
   "cell_type": "markdown",
   "metadata": {
    "collapsed": true,
    "slideshow": {
     "slide_type": "slide"
    }
   },
   "source": [
    "### GWCS Goals\n",
    "\n",
    "- #### Flexible\n",
    "  - Combine transforms arbitrarily in an efficient way so that resampling is done as little as possible.\n",
    "  - Execute subtransforms and their inverse.\n",
    "  - Insert transforms in the WCS pipeline or change existing transforms.\n",
    "  - Provide modular tools for managing WCS.\n",
    "- #### Extensible\n",
    "  - It should be easy to write new transforms\n",
    "  "
   ]
  },
  {
   "cell_type": "markdown",
   "metadata": {
    "slideshow": {
     "slide_type": "slide"
    }
   },
   "source": [
    "### GWCS Data Model\n",
    "\n",
    "- A WCS pipeline is a list of steps executed in order\n",
    "  - Each step defines a starting coordinate frame and the transform to the next frame in the pipeline.\n",
    "  - The last step has no transform, only a frame which is the output frame of the total transform. \n",
    "  - As a minimum a WCS object has an *input_frame* (defaults to \"detector\"), an *output_frame* and the transform between them.\n",
    "\n",
    "- The WCS has a domain attribute which defines the range of acceptable inputs.\n",
    "\n",
    "  The domain is a list of dictionaries - one for each axis \n",
    "\n",
    "  {\"lower\": 5, \"upper\": 2048, \"includes_lower\": True, \"includes_upper\": False}\n",
    "  \n",
    "  \n",
    "- The WCS object is written to file using the Advanced Scientific Data Format (ASDF)."
   ]
  },
  {
   "cell_type": "markdown",
   "metadata": {
    "slideshow": {
     "slide_type": "slide"
    }
   },
   "source": [
    "### ASDF\n",
    "\n",
    "- It has a hierarchical metadata structure, made up of basic dynamic data types such as strings, numbers, lists and mappings.\n",
    "- It has human-readable metadata that can be edited directly in place in the file.\n",
    "- ASDF files have the version of the specification they were written to. This makes it possible to evolve the standard while retaining backwards compatibility.\n",
    "- It’s built on top of industry standards, such as YAML and JSON Schema\n",
    "- The structure of the data can be automatically validated using schema."
   ]
  },
  {
   "cell_type": "markdown",
   "metadata": {
    "slideshow": {
     "slide_type": "slide"
    }
   },
   "source": [
    "### ASDF and GWCS\n",
    "\n",
    "- The asdf package contains the schemas which define and validate GWCS.\n",
    "\n",
    "http://asdf-standard.readthedocs.io/en/latest/\n",
    "\n",
    "- The asdf package contains also the code which serializes GWCS to disk.\n",
    "\n",
    "http://asdf.readthedocs.io/en/latest/"
   ]
  },
  {
   "cell_type": "markdown",
   "metadata": {
    "slideshow": {
     "slide_type": "slide"
    }
   },
   "source": [
    "#### Example of serializing an astropy.modeling model to a file."
   ]
  },
  {
   "cell_type": "code",
   "execution_count": null,
   "metadata": {
    "collapsed": false,
    "slideshow": {
     "slide_type": "subslide"
    }
   },
   "outputs": [],
   "source": [
    "from asdf import AsdfFile\n",
    "import numpy as np\n",
    "from astropy.modeling import models"
   ]
  },
  {
   "cell_type": "code",
   "execution_count": null,
   "metadata": {
    "collapsed": false
   },
   "outputs": [],
   "source": [
    "# Create a 2D rotation model\n",
    "rotation = models.Rotation2D(angle=60)\n",
    "print(rotation)"
   ]
  },
  {
   "cell_type": "code",
   "execution_count": null,
   "metadata": {
    "collapsed": false,
    "slideshow": {
     "slide_type": "subslide"
    }
   },
   "outputs": [],
   "source": [
    "# Open an ASDF file object\n",
    "f = AsdfFile()\n",
    "\n",
    "# Every ASDF file object has an attribute, called \"tree\"\n",
    "# It is a dict like object which store theinformation in YAML format\n",
    "print(f.tree)"
   ]
  },
  {
   "cell_type": "code",
   "execution_count": null,
   "metadata": {
    "collapsed": false,
    "slideshow": {
     "slide_type": "subslide"
    }
   },
   "outputs": [],
   "source": [
    "f.tree['model'] = rotation\n",
    "f.write_to('rotation.asdf')\n",
    "#!less rotation.asdf"
   ]
  },
  {
   "cell_type": "markdown",
   "metadata": {
    "slideshow": {
     "slide_type": "slide"
    }
   },
   "source": [
    "### GWCS and Astropy\n",
    "\n",
    "- Transforms in GWCS are instances of models in [astropy.modeling](http://docs.astropy.org/en/stable/modeling/index.html)\n",
    "- The celestial reference frames in gwcs.coordinate_frames are implemented in [astropy.coordinates](http://docs.astropy.org/en/stable/coordinates/index.html)\n",
    "- Units and unit conversion is implemented in [astropy.units](http://docs.astropy.org/en/stable/units/index.html)"
   ]
  },
  {
   "cell_type": "markdown",
   "metadata": {
    "slideshow": {
     "slide_type": "slide"
    }
   },
   "source": [
    "### JWST and GWCS\n",
    "\n",
    "GWCS is the software used for managing the WCS of JWST observations.\n",
    "\n",
    "- The WCS is included in the JWST science files. It is saved in the FITS file as a separate extension with *EXTNAME=ASDF*.\n",
    "- The WCS includes all transforms from detector to a standard world coordinate system.\n",
    "- The WCS pipelines for different instrument modes include different intermediate coordinate frames.\n",
    "- WCS reference files are in ASDF format."
   ]
  },
  {
   "cell_type": "markdown",
   "metadata": {
    "slideshow": {
     "slide_type": "slide"
    }
   },
   "source": [
    "### Imaging - A Programmatic Example"
   ]
  },
  {
   "cell_type": "code",
   "execution_count": 1,
   "metadata": {
    "collapsed": true,
    "slideshow": {
     "slide_type": "subslide"
    }
   },
   "outputs": [],
   "source": [
    "import numpy as np\n",
    "from astropy.modeling import models\n",
    "from astropy import units as u\n",
    "from astropy import coordinates as coord\n",
    "from asdf import AsdfFile\n",
    "from gwcs import wcs\n",
    "from gwcs import coordinate_frames as cf\n",
    "from gwcs import wcstools\n",
    "from gwcs import utils as gwutils"
   ]
  },
  {
   "cell_type": "code",
   "execution_count": 2,
   "metadata": {
    "collapsed": false
   },
   "outputs": [],
   "source": [
    "# Create two polynomial models \n",
    "polyx = models.Polynomial2D(4)\n",
    "polyx.parameters = np.random.randn(15)\n",
    "polyy = models.Polynomial2D(4)\n",
    "polyy.parameters = np.random.randn(15)\n",
    "distortion = (models.Mapping((0, 1, 0, 1)) | polyx & polyy).rename(\"distortion\")\n",
    "f = AsdfFile()\n",
    "f.tree['model'] = distortion\n",
    "f.write_to('poly.asdf', all_array_storage='inline')\n",
    "#!less poly.asdf"
   ]
  },
  {
   "cell_type": "code",
   "execution_count": 3,
   "metadata": {
    "collapsed": true
   },
   "outputs": [],
   "source": [
    "undist2sky = (models.Shift(-10.5) & models.Shift(-13.2) | models.Rotation2D(0.0023) | \\\n",
    "              models.Scale(.01) & models.Scale(.04) | models.Pix2Sky_TAN() | \\\n",
    "              models.RotateNative2Celestial(5.6, -72.05, 180)).rename(\"undistorted2sky\")"
   ]
  },
  {
   "cell_type": "code",
   "execution_count": 4,
   "metadata": {
    "collapsed": true
   },
   "outputs": [],
   "source": [
    "detector_frame = cf.Frame2D(name=\"detector\", axes_names=(\"x\", \"y\"), unit=(u.pix, u.pix))\n",
    "sky_frame = cf.CelestialFrame(name=\"icrs\", reference_frame=coord.ICRS())\n",
    "focal_frame = cf.Frame2D(name=\"focal_frame\", unit=(u.arcsec, u.arcsec))"
   ]
  },
  {
   "cell_type": "code",
   "execution_count": 9,
   "metadata": {
    "collapsed": false
   },
   "outputs": [
    {
     "name": "stdout",
     "output_type": "stream",
     "text": [
      "    From       Transform   \n",
      "----------- ---------------\n",
      "   detector      distortion\n",
      "focal_frame undistorted2sky\n",
      "       icrs            None\n"
     ]
    }
   ],
   "source": [
    "pipeline = [(detector_frame, distortion),\n",
    "            (focal_frame, undist2sky),\n",
    "            (sky_frame, None)\n",
    "            ]\n",
    "wcsobj = wcs.WCS(pipeline)\n",
    "print(wcsobj)"
   ]
  },
  {
   "cell_type": "code",
   "execution_count": 10,
   "metadata": {
    "collapsed": false,
    "slideshow": {
     "slide_type": "subslide"
    }
   },
   "outputs": [
    {
     "name": "stdout",
     "output_type": "stream",
     "text": [
      "16.008726390741394 17.67313523642333\n"
     ]
    }
   ],
   "source": [
    "# Calling the WCS object like a function evaluates the transforms.\n",
    "ra, dec = wcsobj(500, 600)\n",
    "print(ra, dec)"
   ]
  },
  {
   "cell_type": "code",
   "execution_count": 11,
   "metadata": {
    "collapsed": false,
    "slideshow": {
     "slide_type": "subslide"
    }
   },
   "outputs": [
    {
     "name": "stdout",
     "output_type": "stream",
     "text": [
      "['detector', 'focal_frame', 'icrs']\n"
     ]
    }
   ],
   "source": [
    "# Display the frames available in the WCS pipeline\n",
    "print(wcsobj.available_frames)"
   ]
  },
  {
   "cell_type": "code",
   "execution_count": 12,
   "metadata": {
    "collapsed": false,
    "slideshow": {
     "slide_type": "subslide"
    }
   },
   "outputs": [
    {
     "data": {
      "text/plain": [
       "<Frame2D(name=\"detector\", unit=(Unit(\"pix\"), Unit(\"pix\")), axes_names=('x', 'y'), axes_order=(0, 1))>"
      ]
     },
     "execution_count": 12,
     "metadata": {},
     "output_type": "execute_result"
    }
   ],
   "source": [
    "wcsobj.input_frame"
   ]
  },
  {
   "cell_type": "code",
   "execution_count": 15,
   "metadata": {
    "collapsed": false,
    "slideshow": {
     "slide_type": "subslide"
    }
   },
   "outputs": [
    {
     "data": {
      "text/plain": [
       "<CelestialFrame(name=\"icrs\", unit=(Unit(\"deg\"), Unit(\"deg\")), axes_names=('lon', 'lat'), axes_order=(0, 1), reference_frame=<ICRS Frame>)>"
      ]
     },
     "execution_count": 15,
     "metadata": {},
     "output_type": "execute_result"
    }
   ],
   "source": [
    "wcsobj.output_frame"
   ]
  },
  {
   "cell_type": "code",
   "execution_count": 16,
   "metadata": {
    "collapsed": false,
    "slideshow": {
     "slide_type": "subslide"
    }
   },
   "outputs": [
    {
     "name": "stdout",
     "output_type": "stream",
     "text": [
      "<SkyCoord (ICRS): (ra, dec) in deg\n",
      "    ( 5.33981049, -71.81620703)>\n"
     ]
    }
   ],
   "source": [
    "# Because the output_frame is a CoordinateFrame object we can get as output\n",
    "# coordinates.SkyCoord objects.\n",
    "skycoord = wcsobj(1, 2, output=\"numericals_plus\")\n",
    "print(skycoord)"
   ]
  },
  {
   "cell_type": "code",
   "execution_count": 17,
   "metadata": {
    "collapsed": false,
    "slideshow": {
     "slide_type": "subslide"
    }
   },
   "outputs": [
    {
     "name": "stdout",
     "output_type": "stream",
     "text": [
      "<SkyCoord (Galactic): (l, b) in deg\n",
      "    ( 306.24972505, -45.11777688)>\n"
     ]
    }
   ],
   "source": [
    "print(skycoord.transform_to('galactic'))"
   ]
  },
  {
   "cell_type": "code",
   "execution_count": 18,
   "metadata": {
    "collapsed": false,
    "slideshow": {
     "slide_type": "subslide"
    }
   },
   "outputs": [
    {
     "name": "stdout",
     "output_type": "stream",
     "text": [
      "<SkyCoord (ICRS): (ra, dec) in deg\n",
      "    ( 16.00872639,  17.67313524)>\n"
     ]
    }
   ],
   "source": [
    "print(wcsobj.output_frame.coordinates(ra, dec))"
   ]
  },
  {
   "cell_type": "markdown",
   "metadata": {
    "slideshow": {
     "slide_type": "subslide"
    }
   },
   "source": [
    "### Methods for managing the transforms"
   ]
  },
  {
   "cell_type": "code",
   "execution_count": 19,
   "metadata": {
    "collapsed": false,
    "slideshow": {
     "slide_type": "fragment"
    }
   },
   "outputs": [
    {
     "name": "stdout",
     "output_type": "stream",
     "text": [
      "['detector', 'focal_frame', 'icrs']\n"
     ]
    }
   ],
   "source": [
    "# It is possible to retrieve the transform between any\n",
    "# two coordinate frames in the WCS pipeline\n",
    "print(wcsobj.available_frames)"
   ]
  },
  {
   "cell_type": "code",
   "execution_count": 20,
   "metadata": {
    "collapsed": false,
    "slideshow": {
     "slide_type": "fragment"
    }
   },
   "outputs": [
    {
     "name": "stdout",
     "output_type": "stream",
     "text": [
      "2.3805516740935873 19.040803617391592\n"
     ]
    }
   ],
   "source": [
    "det2focal = wcsobj.get_transform(\"detector\", \"focal_frame\")\n",
    "fx, fy = det2focal(1, 2)\n",
    "print(fx, fy)"
   ]
  },
  {
   "cell_type": "code",
   "execution_count": 22,
   "metadata": {
    "collapsed": false,
    "slideshow": {
     "slide_type": "subslide"
    }
   },
   "outputs": [
    {
     "name": "stdout",
     "output_type": "stream",
     "text": [
      "(<Quantity 2.3805516740935873 arcsec>, <Quantity 19.040803617391592 arcsec>)\n"
     ]
    }
   ],
   "source": [
    "# And we can see what the units are in focal_frame\n",
    "print(wcsobj.focal_frame.coordinates(fx, fy))"
   ]
  },
  {
   "cell_type": "code",
   "execution_count": 23,
   "metadata": {
    "collapsed": false,
    "slideshow": {
     "slide_type": "subslide"
    }
   },
   "outputs": [
    {
     "name": "stdout",
     "output_type": "stream",
     "text": [
      "16.008726390741394 17.67313523642333\n",
      "12.542455839834997 -49.15389307219613\n"
     ]
    }
   ],
   "source": [
    "# It is also possible to replace a transform \n",
    "# Create a transforms which shifts in X and y\n",
    "new_det2focal = models.Shift(3) & models.Shift(12)\n",
    "# Replace the transform between \"detector\" and \"v2v3\"\n",
    "wcsobj.set_transform(\"detector\", \"focal_frame\", new_det2focal)\n",
    "new_ra, new_dec = wcsobj(500, 600)\n",
    "print(ra, dec)\n",
    "print(new_ra, new_dec)"
   ]
  },
  {
   "cell_type": "code",
   "execution_count": 24,
   "metadata": {
    "collapsed": false,
    "slideshow": {
     "slide_type": "subslide"
    }
   },
   "outputs": [
    {
     "data": {
      "text/plain": [
       "(-175.6556532023201, 25.96129074500988)"
      ]
     },
     "execution_count": 24,
     "metadata": {},
     "output_type": "execute_result"
    }
   ],
   "source": [
    "# We can insert a transform in the pipeline just before or after a frame\n",
    "rotation = models.EulerAngleRotation(.1, 12, 180, axes_order=\"xyz\")\n",
    "wcsobj.insert_transform(\"focal_frame\", rotation)\n",
    "wcsobj.get_transform(\"detector\", \"focal_frame\")(1, 2)"
   ]
  },
  {
   "cell_type": "markdown",
   "metadata": {
    "slideshow": {
     "slide_type": "slide"
    }
   },
   "source": [
    "### Discontiguous transforms\n",
    "\n",
    "There are cases when different WCS transforms apply to different regions of the same image.\n",
    "\n",
    "JWST observations with the IFUs, the NIRSpec MOS and fixed slits, the NIRISS SOSS and the WFSS,\n",
    "are all examlpes of discontiguos WCSs.\n",
    "\n",
    "GWCS manages this by packaging the transforms in a single WCS object.\n",
    "\n",
    "Individual WCSs are accessed using additional inputs. These non-coordinate inputs depend on the specific mode. \n",
    "\n",
    "For the NIRSpec fixed slits the input is the slit name, for the IFU - the slice number, for the MOS - the sltlet_id, for NIRISS SOSS - the spectral order.\n"
   ]
  },
  {
   "cell_type": "markdown",
   "metadata": {
    "slideshow": {
     "slide_type": "slide"
    }
   },
   "source": [
    "### NIRSpec Fixed Slit Example"
   ]
  },
  {
   "cell_type": "code",
   "execution_count": 26,
   "metadata": {
    "collapsed": false,
    "slideshow": {
     "slide_type": "fragment"
    }
   },
   "outputs": [
    {
     "name": "stdout",
     "output_type": "stream",
     "text": [
      "Slit(name='S200A1', shutter_id=0, xcen=0, ycen=0, ymin=-0.5, ymax=0.5, quadrant=5, source_id=0, nshutters=0, source_name='', source_alias='', catalog_id='', stellarity=0.0, source_xpos=0.0, source_ypos=0.0)\n"
     ]
    }
   ],
   "source": [
    "from jwst import datamodels\n",
    "nrs_fs = \"nrs1_assign_wcs.fits.gz\"\n",
    "nrs = datamodels.ImageModel(nrs_fs)\n",
    "from jwst.assign_wcs import nirspec\n",
    "slits = nirspec.get_open_slits(nrs)\n",
    "print(slits[0])"
   ]
  },
  {
   "cell_type": "code",
   "execution_count": 43,
   "metadata": {
    "collapsed": false,
    "slideshow": {
     "slide_type": "subslide"
    }
   },
   "outputs": [
    {
     "name": "stdout",
     "output_type": "stream",
     "text": [
      "Slit(name='S200A1', shutter_id=0, xcen=0, ycen=0, ymin=-0.5, ymax=0.5, quadrant=5, source_id=0, nshutters=0, source_name='', source_alias='', catalog_id='', stellarity=0.0, source_xpos=0.0, source_ypos=0.0)\n",
      "Slit(name='S200A2', shutter_id=1, xcen=0, ycen=0, ymin=-0.5, ymax=0.5, quadrant=5, source_id=0, nshutters=0, source_name='', source_alias='', catalog_id='', stellarity=0.0, source_xpos=0.0, source_ypos=0.0)\n",
      "Slit(name='S400A1', shutter_id=2, xcen=0, ycen=0, ymin=-0.5, ymax=0.5, quadrant=5, source_id=0, nshutters=0, source_name='', source_alias='', catalog_id='', stellarity=0.0, source_xpos=0.0, source_ypos=0.0)\n",
      "Slit(name='S1600A1', shutter_id=3, xcen=0, ycen=0, ymin=-0.5, ymax=0.5, quadrant=5, source_id=0, nshutters=0, source_name='', source_alias='', catalog_id='', stellarity=0.0, source_xpos=0.0, source_ypos=0.0)\n",
      "Slit(name='S200B1', shutter_id=4, xcen=0, ycen=0, ymin=-0.5, ymax=0.5, quadrant=5, source_id=0, nshutters=0, source_name='', source_alias='', catalog_id='', stellarity=0.0, source_xpos=0.0, source_ypos=0.0)\n",
      "S200A1\n"
     ]
    }
   ],
   "source": [
    "slits = nirspec.get_open_slits(nrs)\n",
    "for s in slits:\n",
    "    print(s)"
   ]
  },
  {
   "cell_type": "code",
   "execution_count": 44,
   "metadata": {
    "collapsed": false,
    "slideshow": {
     "slide_type": "fragment"
    }
   },
   "outputs": [
    {
     "name": "stdout",
     "output_type": "stream",
     "text": [
      "[{'upper': 1641, 'lower': 0}, {'upper': 231, 'lower': 169}]\n"
     ]
    }
   ],
   "source": [
    "s0 = nirspec.nrs_wcs_set_input(nrs, \"S200A1\")\n",
    "print(s0.domain)"
   ]
  },
  {
   "cell_type": "code",
   "execution_count": 45,
   "metadata": {
    "collapsed": false,
    "slideshow": {
     "slide_type": "fragment"
    }
   },
   "outputs": [
    {
     "data": {
      "text/plain": [
       "['detector', 'sca', 'gwa', 'slit_frame', 'msa_frame', 'oteip', 'v2v3', 'world']"
      ]
     },
     "execution_count": 45,
     "metadata": {},
     "output_type": "execute_result"
    }
   ],
   "source": [
    "s0.available_frames"
   ]
  },
  {
   "cell_type": "code",
   "execution_count": 46,
   "metadata": {
    "collapsed": false,
    "slideshow": {
     "slide_type": "fragment"
    }
   },
   "outputs": [
    {
     "data": {
      "text/plain": [
       "[<CelestialFrame(name=\"sky\", unit=(Unit(\"deg\"), Unit(\"deg\")), axes_names=('lon', 'lat'), axes_order=(0, 1), reference_frame=<ICRS Frame>)>, <SpectralFrame(name=\"spectral\", unit=(Unit(\"um\"),), axes_names=('wavelength',), axes_order=(2,))>]"
      ]
     },
     "execution_count": 46,
     "metadata": {},
     "output_type": "execute_result"
    }
   ],
   "source": [
    "s0.output_frame"
   ]
  },
  {
   "cell_type": "code",
   "execution_count": 32,
   "metadata": {
    "collapsed": false,
    "slideshow": {
     "slide_type": "fragment"
    }
   },
   "outputs": [],
   "source": [
    "ra, dec, lam = s0(x, y)"
   ]
  },
  {
   "cell_type": "code",
   "execution_count": 48,
   "metadata": {
    "collapsed": false
   },
   "outputs": [
    {
     "name": "stdout",
     "output_type": "stream",
     "text": [
      "sky [5.670327762841917, -72.31292917354918] (0, 1)\n",
      "spectral [1.0484778510369612] (2,)\n",
      "[<SkyCoord (ICRS): (ra, dec) in deg\n",
      "    ( 5.67032776, -72.31292917)>, <Quantity 1.0484778510369612 um>]\n"
     ]
    }
   ],
   "source": [
    "res = s0(1000, 200, output=\"numericals_plus\")\n",
    "print(res)"
   ]
  },
  {
   "cell_type": "code",
   "execution_count": 49,
   "metadata": {
    "collapsed": false,
    "slideshow": {
     "slide_type": "subslide"
    }
   },
   "outputs": [
    {
     "data": {
      "text/plain": [
       "<matplotlib.colorbar.Colorbar at 0x7f4d30eb4cc0>"
      ]
     },
     "execution_count": 49,
     "metadata": {},
     "output_type": "execute_result"
    },
    {
     "data": {
      "image/png": "[encoded data removed]",
      "text/plain": [
       "<matplotlib.figure.Figure at 0x7f4d3341a0b8>"
      ]
     },
     "metadata": {},
     "output_type": "display_data"
    }
   ],
   "source": [
    "%matplotlib inline\n",
    "from matplotlib import pyplot as plt\n",
    "plt.imshow(lam, aspect='auto')\n",
    "plt.title(\"lambda, microns\")\n",
    "plt.colorbar()"
   ]
  },
  {
   "cell_type": "code",
   "execution_count": null,
   "metadata": {
    "collapsed": true
   },
   "outputs": [],
   "source": []
  }
 ],
 "metadata": {
  "anaconda-cloud": {},
  "kernelspec": {
   "display_name": "Python [jwstdev]",
   "language": "python",
   "name": "Python [jwstdev]"
  },
  "language_info": {
   "codemirror_mode": {
    "name": "ipython",
    "version": 3
   },
   "file_extension": ".py",
   "mimetype": "text/x-python",
   "name": "python",
   "nbconvert_exporter": "python",
   "pygments_lexer": "ipython3",
   "version": "3.5.1"
  }
 },
 "nbformat": 4,
 "nbformat_minor": 1
}
